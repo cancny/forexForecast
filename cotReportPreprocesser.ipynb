{
 "cells": [
  {
   "cell_type": "markdown",
   "metadata": {},
   "source": [
    "# Introduction\n",
    "\n",
    "The purpose of kernel is to prepare COT report into a processable format.\n",
    "\n",
    "At the end the number of positions are given as positive or negative numbers meaning that specific group (ie. asset managers) took position long more than short if the number is positive and vice versa.\n",
    "\n",
    "This kernel also unites two reports into a one dataframe.\n",
    "\n"
   ]
  },
  {
   "cell_type": "code",
   "execution_count": 1,
   "metadata": {},
   "outputs": [],
   "source": [
    "import pandas as pd\n",
    "import numpy as np"
   ]
  },
  {
   "cell_type": "code",
   "execution_count": 2,
   "metadata": {},
   "outputs": [],
   "source": [
    "df16 = pd.read_excel(\"cotreport/F_TFF_2006_2016.xls\")\n",
    "df20=pd.read_excel(\"cotreport/FinFutYY20.xls\")\n",
    "df19=pd.read_excel(\"cotreport/FinFutYY19.xls\")\n",
    "df18=pd.read_excel(\"cotreport/FinFutYY18.xls\")\n",
    "df17=pd.read_excel(\"cotreport/FinFutYY17.xls\")\n"
   ]
  },
  {
   "cell_type": "code",
   "execution_count": 3,
   "metadata": {},
   "outputs": [],
   "source": [
    "df = pd.concat([df16.iloc[::-1],df17.iloc[::-1],df18.iloc[::-1],df19.iloc[::-1],df20.iloc[::-1]])\n",
    "df = df[df['Market_and_Exchange_Names']=='EURO FX - CHICAGO MERCANTILE EXCHANGE']\n",
    "df = df.reset_index(drop=True)"
   ]
  },
  {
   "cell_type": "code",
   "execution_count": 4,
   "metadata": {},
   "outputs": [],
   "source": [
    "df['Asset_Mgr_Positions'] = df['Asset_Mgr_Positions_Long_All'] - df['Asset_Mgr_Positions_Short_All']\n",
    "df['Lev_Money_Positions'] = df['Lev_Money_Positions_Long_All'] - df['Lev_Money_Positions_Short_All']\n",
    "df['Dealer_Positions'] = df['Dealer_Positions_Long_All'] - df['Dealer_Positions_Short_All']\n",
    "df['Other_Rept_Positions'] = df['Other_Rept_Positions_Long_All'] - df['Other_Rept_Positions_Short_All']\n"
   ]
  },
  {
   "cell_type": "code",
   "execution_count": 5,
   "metadata": {},
   "outputs": [],
   "source": [
    "df = df[['Report_Date_as_MM_DD_YYYY','Asset_Mgr_Positions','Lev_Money_Positions','Dealer_Positions','Other_Rept_Positions']]"
   ]
  },
  {
   "cell_type": "code",
   "execution_count": 6,
   "metadata": {},
   "outputs": [],
   "source": [
    "#In order to unite both datasets there are an offset that must be ommitted.\n",
    "df = df.iloc[29:]"
   ]
  },
  {
   "cell_type": "code",
   "execution_count": 7,
   "metadata": {},
   "outputs": [
    {
     "name": "stdout",
     "output_type": "stream",
     "text": [
      "WARNING *** OLE2 inconsistency: SSCS size is 0 but SSAT size is non-zero\n"
     ]
    }
   ],
   "source": [
    "dfl14 = pd.read_excel(\"cotreport/commnoncom/FUT07_14.xls\")\n",
    "dfl16 = pd.read_excel(\"cotreport/commnoncom/FUT15_16.xls\")\n",
    "\n",
    "dfl17=pd.read_excel(\"cotreport/commnoncom/2017.xls\")\n",
    "dfl18=pd.read_excel(\"cotreport/commnoncom/2018.xls\")\n",
    "dfl19=pd.read_excel(\"cotreport/commnoncom/2019.xls\")\n",
    "dfl20=pd.read_excel(\"cotreport/commnoncom/2020.xls\")"
   ]
  },
  {
   "cell_type": "code",
   "execution_count": 8,
   "metadata": {},
   "outputs": [],
   "source": [
    "dfl = pd.concat([dfl14.iloc[::-1],dfl16.iloc[::-1],dfl17.iloc[::-1],dfl18.iloc[::-1],dfl19.iloc[::-1],dfl20.iloc[::-1]])\n",
    "dfl = dfl[dfl['Market_and_Exchange_Names']=='EURO FX - CHICAGO MERCANTILE EXCHANGE']\n",
    "dfl = dfl.reset_index(drop=True)"
   ]
  },
  {
   "cell_type": "code",
   "execution_count": 9,
   "metadata": {},
   "outputs": [],
   "source": [
    "dfl['Comm_Positions'] = dfl['Comm_Positions_Long_All'] - dfl['Comm_Positions_Short_All']\n",
    "dfl['NonComm_Positions'] = dfl['NonComm_Positions_Long_All'] - dfl['NonComm_Positions_Short_All']"
   ]
  },
  {
   "cell_type": "code",
   "execution_count": 10,
   "metadata": {},
   "outputs": [],
   "source": [
    "dfl = dfl[['Report_Date_as_MM_DD_YYYY','Comm_Positions','NonComm_Positions']]"
   ]
  },
  {
   "cell_type": "code",
   "execution_count": 11,
   "metadata": {},
   "outputs": [],
   "source": [
    "newdf = pd.concat([df.reset_index(drop=True).set_index('Report_Date_as_MM_DD_YYYY'),dfl.reset_index(drop=True).set_index(\"Report_Date_as_MM_DD_YYYY\")],axis=1)"
   ]
  },
  {
   "cell_type": "code",
   "execution_count": 12,
   "metadata": {},
   "outputs": [
    {
     "data": {
      "text/html": [
       "<div>\n",
       "<style scoped>\n",
       "    .dataframe tbody tr th:only-of-type {\n",
       "        vertical-align: middle;\n",
       "    }\n",
       "\n",
       "    .dataframe tbody tr th {\n",
       "        vertical-align: top;\n",
       "    }\n",
       "\n",
       "    .dataframe thead th {\n",
       "        text-align: right;\n",
       "    }\n",
       "</style>\n",
       "<table border=\"1\" class=\"dataframe\">\n",
       "  <thead>\n",
       "    <tr style=\"text-align: right;\">\n",
       "      <th></th>\n",
       "      <th>Report_Date_as_MM_DD_YYYY</th>\n",
       "      <th>Asset_Mgr_Positions</th>\n",
       "      <th>Lev_Money_Positions</th>\n",
       "      <th>Dealer_Positions</th>\n",
       "      <th>Other_Rept_Positions</th>\n",
       "      <th>Comm_Positions</th>\n",
       "      <th>NonComm_Positions</th>\n",
       "    </tr>\n",
       "  </thead>\n",
       "  <tbody>\n",
       "    <tr>\n",
       "      <th>0</th>\n",
       "      <td>2007-01-03</td>\n",
       "      <td>14718</td>\n",
       "      <td>52819</td>\n",
       "      <td>-103874</td>\n",
       "      <td>4223</td>\n",
       "      <td>-109570</td>\n",
       "      <td>77456</td>\n",
       "    </tr>\n",
       "    <tr>\n",
       "      <th>1</th>\n",
       "      <td>2007-01-09</td>\n",
       "      <td>16369</td>\n",
       "      <td>47594</td>\n",
       "      <td>-97862</td>\n",
       "      <td>4732</td>\n",
       "      <td>-104339</td>\n",
       "      <td>75172</td>\n",
       "    </tr>\n",
       "    <tr>\n",
       "      <th>2</th>\n",
       "      <td>2007-01-16</td>\n",
       "      <td>17002</td>\n",
       "      <td>24472</td>\n",
       "      <td>-71665</td>\n",
       "      <td>6549</td>\n",
       "      <td>-77184</td>\n",
       "      <td>53542</td>\n",
       "    </tr>\n",
       "    <tr>\n",
       "      <th>3</th>\n",
       "      <td>2007-01-23</td>\n",
       "      <td>15911</td>\n",
       "      <td>30379</td>\n",
       "      <td>-71340</td>\n",
       "      <td>5471</td>\n",
       "      <td>-80589</td>\n",
       "      <td>61010</td>\n",
       "    </tr>\n",
       "    <tr>\n",
       "      <th>4</th>\n",
       "      <td>2007-01-30</td>\n",
       "      <td>14821</td>\n",
       "      <td>32953</td>\n",
       "      <td>-68002</td>\n",
       "      <td>4505</td>\n",
       "      <td>-78302</td>\n",
       "      <td>62579</td>\n",
       "    </tr>\n",
       "  </tbody>\n",
       "</table>\n",
       "</div>"
      ],
      "text/plain": [
       "  Report_Date_as_MM_DD_YYYY  Asset_Mgr_Positions  Lev_Money_Positions  \\\n",
       "0                2007-01-03                14718                52819   \n",
       "1                2007-01-09                16369                47594   \n",
       "2                2007-01-16                17002                24472   \n",
       "3                2007-01-23                15911                30379   \n",
       "4                2007-01-30                14821                32953   \n",
       "\n",
       "   Dealer_Positions  Other_Rept_Positions  Comm_Positions  NonComm_Positions  \n",
       "0           -103874                  4223         -109570              77456  \n",
       "1            -97862                  4732         -104339              75172  \n",
       "2            -71665                  6549          -77184              53542  \n",
       "3            -71340                  5471          -80589              61010  \n",
       "4            -68002                  4505          -78302              62579  "
      ]
     },
     "execution_count": 12,
     "metadata": {},
     "output_type": "execute_result"
    }
   ],
   "source": [
    "newdf.reset_index().head()"
   ]
  },
  {
   "cell_type": "code",
   "execution_count": 13,
   "metadata": {},
   "outputs": [],
   "source": [
    "newdf.reset_index().to_csv(\"cotReportWithAll.csv\",index=False)"
   ]
  },
  {
   "cell_type": "code",
   "execution_count": null,
   "metadata": {},
   "outputs": [],
   "source": []
  }
 ],
 "metadata": {
  "kernelspec": {
   "display_name": "Python 3",
   "language": "python",
   "name": "python3"
  },
  "language_info": {
   "codemirror_mode": {
    "name": "ipython",
    "version": 3
   },
   "file_extension": ".py",
   "mimetype": "text/x-python",
   "name": "python",
   "nbconvert_exporter": "python",
   "pygments_lexer": "ipython3",
   "version": "3.7.3"
  }
 },
 "nbformat": 4,
 "nbformat_minor": 2
}
